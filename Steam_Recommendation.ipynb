{
  "cells": [
    {
      "cell_type": "markdown",
      "metadata": {
        "colab_type": "text",
        "id": "view-in-github"
      },
      "source": [
        "<a href=\"https://colab.research.google.com/github/Ao-Baid/steamrecommendation/blob/main/Steam_Recommendation.ipynb\" target=\"_parent\"><img src=\"https://colab.research.google.com/assets/colab-badge.svg\" alt=\"Open In Colab\"/></a>"
      ]
    },
    {
      "cell_type": "markdown",
      "metadata": {
        "id": "XroN-IFndtcq"
      },
      "source": [
        "Import necessary libraries for data visualisation, training and evaluation"
      ]
    },
    {
      "cell_type": "code",
      "execution_count": 1,
      "metadata": {
        "id": "PqMfETXab6tt"
      },
      "outputs": [],
      "source": [
        "import pandas as pd\n",
        "import numpy as np\n",
        "import matplotlib.pyplot as plt\n",
        "import json\n",
        "import csv"
      ]
    },
    {
      "cell_type": "markdown",
      "metadata": {
        "id": "rFjFEhFydzQw"
      },
      "source": [
        "Loading the data"
      ]
    },
    {
      "cell_type": "code",
      "execution_count": 2,
      "metadata": {
        "colab": {
          "base_uri": "https://localhost:8080/",
          "height": 175
        },
        "id": "dMwJ04Rkd_vd",
        "outputId": "2893508a-c2ff-4c50-fee1-c8ee21e56ae1"
      },
      "outputs": [
        {
          "data": {
            "text/html": [
              "<div>\n",
              "<style scoped>\n",
              "    .dataframe tbody tr th:only-of-type {\n",
              "        vertical-align: middle;\n",
              "    }\n",
              "\n",
              "    .dataframe tbody tr th {\n",
              "        vertical-align: top;\n",
              "    }\n",
              "\n",
              "    .dataframe thead th {\n",
              "        text-align: right;\n",
              "    }\n",
              "</style>\n",
              "<table border=\"1\" class=\"dataframe\">\n",
              "  <thead>\n",
              "    <tr style=\"text-align: right;\">\n",
              "      <th></th>\n",
              "      <th>Dataframe</th>\n",
              "      <th>Records</th>\n",
              "    </tr>\n",
              "  </thead>\n",
              "  <tbody>\n",
              "    <tr>\n",
              "      <th>0</th>\n",
              "      <td>Recommendations</td>\n",
              "      <td>41154794</td>\n",
              "    </tr>\n",
              "    <tr>\n",
              "      <th>1</th>\n",
              "      <td>Users</td>\n",
              "      <td>14306064</td>\n",
              "    </tr>\n",
              "    <tr>\n",
              "      <th>2</th>\n",
              "      <td>Games</td>\n",
              "      <td>50872</td>\n",
              "    </tr>\n",
              "    <tr>\n",
              "      <th>3</th>\n",
              "      <td>Games Metadata</td>\n",
              "      <td>50872</td>\n",
              "    </tr>\n",
              "  </tbody>\n",
              "</table>\n",
              "</div>"
            ],
            "text/plain": [
              "         Dataframe   Records\n",
              "0  Recommendations  41154794\n",
              "1            Users  14306064\n",
              "2            Games     50872\n",
              "3   Games Metadata     50872"
            ]
          },
          "execution_count": 2,
          "metadata": {},
          "output_type": "execute_result"
        }
      ],
      "source": [
        "root_dir = 'data'\n",
        "\n",
        "df_games = pd.read_csv(root_dir + '/games.csv')\n",
        "df_games_meta = pd.read_json(root_dir + '/games_metadata.json', lines=True, orient=\"records\")\n",
        "df_recommendations = pd.read_csv(root_dir + '/recommendations.csv')\n",
        "df_users = pd.read_csv(root_dir + '/users.csv')\n",
        "\n",
        "pd.DataFrame([\n",
        "    [\"Recommendations\", len(df_recommendations.index)],\n",
        "    [\"Users\", len(df_users.index)],\n",
        "    [\"Games\", len(df_games.index)],\n",
        "    [\"Games Metadata\", len(df_games_meta.index)]\n",
        "], columns=[\"Dataframe\", \"Records\"])"
      ]
    },
    {
      "cell_type": "markdown",
      "metadata": {
        "id": "s-jOs2bgg5Jx"
      },
      "source": [
        "A clearer view of the games tables and the attributes it contains:\n",
        "\n",
        "\n",
        "*   app_id (native product ID on steam)\n",
        "*   title\n",
        "*   date_release\n",
        "*   OS support\n",
        "*   Product rating type\n",
        "*   Ratio of positive feedbacks\n",
        "*   Number of reviews\n",
        "*   Pricing (original and discounted)\n",
        "*   Steam Deck compatibility\n",
        "\n",
        "\n"
      ]
    },
    {
      "cell_type": "code",
      "execution_count": 3,
      "metadata": {
        "colab": {
          "base_uri": "https://localhost:8080/",
          "height": 206
        },
        "id": "Bgw5fdDLhfOV",
        "outputId": "568f44e7-5d20-4cef-ff44-6e7ebd5d546e"
      },
      "outputs": [
        {
          "data": {
            "text/html": [
              "<div>\n",
              "<style scoped>\n",
              "    .dataframe tbody tr th:only-of-type {\n",
              "        vertical-align: middle;\n",
              "    }\n",
              "\n",
              "    .dataframe tbody tr th {\n",
              "        vertical-align: top;\n",
              "    }\n",
              "\n",
              "    .dataframe thead th {\n",
              "        text-align: right;\n",
              "    }\n",
              "</style>\n",
              "<table border=\"1\" class=\"dataframe\">\n",
              "  <thead>\n",
              "    <tr style=\"text-align: right;\">\n",
              "      <th></th>\n",
              "      <th>app_id</th>\n",
              "      <th>title</th>\n",
              "      <th>date_release</th>\n",
              "      <th>win</th>\n",
              "      <th>mac</th>\n",
              "      <th>linux</th>\n",
              "      <th>rating</th>\n",
              "      <th>positive_ratio</th>\n",
              "      <th>user_reviews</th>\n",
              "      <th>price_final</th>\n",
              "      <th>price_original</th>\n",
              "      <th>discount</th>\n",
              "      <th>steam_deck</th>\n",
              "    </tr>\n",
              "  </thead>\n",
              "  <tbody>\n",
              "    <tr>\n",
              "      <th>0</th>\n",
              "      <td>13500</td>\n",
              "      <td>Prince of Persia: Warrior Within™</td>\n",
              "      <td>2008-11-21</td>\n",
              "      <td>True</td>\n",
              "      <td>False</td>\n",
              "      <td>False</td>\n",
              "      <td>Very Positive</td>\n",
              "      <td>84</td>\n",
              "      <td>2199</td>\n",
              "      <td>9.99</td>\n",
              "      <td>9.99</td>\n",
              "      <td>0.0</td>\n",
              "      <td>True</td>\n",
              "    </tr>\n",
              "    <tr>\n",
              "      <th>1</th>\n",
              "      <td>22364</td>\n",
              "      <td>BRINK: Agents of Change</td>\n",
              "      <td>2011-08-03</td>\n",
              "      <td>True</td>\n",
              "      <td>False</td>\n",
              "      <td>False</td>\n",
              "      <td>Positive</td>\n",
              "      <td>85</td>\n",
              "      <td>21</td>\n",
              "      <td>2.99</td>\n",
              "      <td>2.99</td>\n",
              "      <td>0.0</td>\n",
              "      <td>True</td>\n",
              "    </tr>\n",
              "    <tr>\n",
              "      <th>2</th>\n",
              "      <td>113020</td>\n",
              "      <td>Monaco: What's Yours Is Mine</td>\n",
              "      <td>2013-04-24</td>\n",
              "      <td>True</td>\n",
              "      <td>True</td>\n",
              "      <td>True</td>\n",
              "      <td>Very Positive</td>\n",
              "      <td>92</td>\n",
              "      <td>3722</td>\n",
              "      <td>14.99</td>\n",
              "      <td>14.99</td>\n",
              "      <td>0.0</td>\n",
              "      <td>True</td>\n",
              "    </tr>\n",
              "    <tr>\n",
              "      <th>3</th>\n",
              "      <td>226560</td>\n",
              "      <td>Escape Dead Island</td>\n",
              "      <td>2014-11-18</td>\n",
              "      <td>True</td>\n",
              "      <td>False</td>\n",
              "      <td>False</td>\n",
              "      <td>Mixed</td>\n",
              "      <td>61</td>\n",
              "      <td>873</td>\n",
              "      <td>14.99</td>\n",
              "      <td>14.99</td>\n",
              "      <td>0.0</td>\n",
              "      <td>True</td>\n",
              "    </tr>\n",
              "    <tr>\n",
              "      <th>4</th>\n",
              "      <td>249050</td>\n",
              "      <td>Dungeon of the ENDLESS™</td>\n",
              "      <td>2014-10-27</td>\n",
              "      <td>True</td>\n",
              "      <td>True</td>\n",
              "      <td>False</td>\n",
              "      <td>Very Positive</td>\n",
              "      <td>88</td>\n",
              "      <td>8784</td>\n",
              "      <td>11.99</td>\n",
              "      <td>11.99</td>\n",
              "      <td>0.0</td>\n",
              "      <td>True</td>\n",
              "    </tr>\n",
              "  </tbody>\n",
              "</table>\n",
              "</div>"
            ],
            "text/plain": [
              "   app_id                              title date_release   win    mac  linux  \\\n",
              "0   13500  Prince of Persia: Warrior Within™   2008-11-21  True  False  False   \n",
              "1   22364            BRINK: Agents of Change   2011-08-03  True  False  False   \n",
              "2  113020       Monaco: What's Yours Is Mine   2013-04-24  True   True   True   \n",
              "3  226560                 Escape Dead Island   2014-11-18  True  False  False   \n",
              "4  249050            Dungeon of the ENDLESS™   2014-10-27  True   True  False   \n",
              "\n",
              "          rating  positive_ratio  user_reviews  price_final  price_original  \\\n",
              "0  Very Positive              84          2199         9.99            9.99   \n",
              "1       Positive              85            21         2.99            2.99   \n",
              "2  Very Positive              92          3722        14.99           14.99   \n",
              "3          Mixed              61           873        14.99           14.99   \n",
              "4  Very Positive              88          8784        11.99           11.99   \n",
              "\n",
              "   discount  steam_deck  \n",
              "0       0.0        True  \n",
              "1       0.0        True  \n",
              "2       0.0        True  \n",
              "3       0.0        True  \n",
              "4       0.0        True  "
            ]
          },
          "execution_count": 3,
          "metadata": {},
          "output_type": "execute_result"
        }
      ],
      "source": [
        "df_games.head()"
      ]
    },
    {
      "cell_type": "markdown",
      "metadata": {
        "id": "v6AsuuKOirP6"
      },
      "source": [
        "Users table contains the attributes:\n",
        "\n",
        "\n",
        "*   user_id (Primary key)\n",
        "*   Number of products purchased by the user\n",
        "*   Number of reviews published on steam\n",
        "\n"
      ]
    },
    {
      "cell_type": "code",
      "execution_count": 4,
      "metadata": {
        "id": "q1RnDyByi1gW"
      },
      "outputs": [
        {
          "data": {
            "text/html": [
              "<div>\n",
              "<style scoped>\n",
              "    .dataframe tbody tr th:only-of-type {\n",
              "        vertical-align: middle;\n",
              "    }\n",
              "\n",
              "    .dataframe tbody tr th {\n",
              "        vertical-align: top;\n",
              "    }\n",
              "\n",
              "    .dataframe thead th {\n",
              "        text-align: right;\n",
              "    }\n",
              "</style>\n",
              "<table border=\"1\" class=\"dataframe\">\n",
              "  <thead>\n",
              "    <tr style=\"text-align: right;\">\n",
              "      <th></th>\n",
              "      <th>user_id</th>\n",
              "      <th>products</th>\n",
              "      <th>reviews</th>\n",
              "    </tr>\n",
              "  </thead>\n",
              "  <tbody>\n",
              "    <tr>\n",
              "      <th>0</th>\n",
              "      <td>7360263</td>\n",
              "      <td>359</td>\n",
              "      <td>0</td>\n",
              "    </tr>\n",
              "    <tr>\n",
              "      <th>1</th>\n",
              "      <td>14020781</td>\n",
              "      <td>156</td>\n",
              "      <td>1</td>\n",
              "    </tr>\n",
              "    <tr>\n",
              "      <th>2</th>\n",
              "      <td>8762579</td>\n",
              "      <td>329</td>\n",
              "      <td>4</td>\n",
              "    </tr>\n",
              "    <tr>\n",
              "      <th>3</th>\n",
              "      <td>4820647</td>\n",
              "      <td>176</td>\n",
              "      <td>4</td>\n",
              "    </tr>\n",
              "    <tr>\n",
              "      <th>4</th>\n",
              "      <td>5167327</td>\n",
              "      <td>98</td>\n",
              "      <td>2</td>\n",
              "    </tr>\n",
              "  </tbody>\n",
              "</table>\n",
              "</div>"
            ],
            "text/plain": [
              "    user_id  products  reviews\n",
              "0   7360263       359        0\n",
              "1  14020781       156        1\n",
              "2   8762579       329        4\n",
              "3   4820647       176        4\n",
              "4   5167327        98        2"
            ]
          },
          "execution_count": 4,
          "metadata": {},
          "output_type": "execute_result"
        }
      ],
      "source": [
        "df_users.head()"
      ]
    },
    {
      "cell_type": "markdown",
      "metadata": {},
      "source": [
        "Recommendations table contains the attributes:\n",
        "\n",
        "* Primary key: review auto-generated ID\n",
        "* Foreign key on Games table: native product ID on Steam\n",
        "* Foreign key on Users table: user augo\n",
        "* How many users found a recommendation helpful/funny\n",
        "* Product recommended (not recommended) by user\n",
        "* How many hours played by the user."
      ]
    },
    {
      "cell_type": "code",
      "execution_count": 5,
      "metadata": {},
      "outputs": [
        {
          "data": {
            "text/html": [
              "<div>\n",
              "<style scoped>\n",
              "    .dataframe tbody tr th:only-of-type {\n",
              "        vertical-align: middle;\n",
              "    }\n",
              "\n",
              "    .dataframe tbody tr th {\n",
              "        vertical-align: top;\n",
              "    }\n",
              "\n",
              "    .dataframe thead th {\n",
              "        text-align: right;\n",
              "    }\n",
              "</style>\n",
              "<table border=\"1\" class=\"dataframe\">\n",
              "  <thead>\n",
              "    <tr style=\"text-align: right;\">\n",
              "      <th></th>\n",
              "      <th>app_id</th>\n",
              "      <th>helpful</th>\n",
              "      <th>funny</th>\n",
              "      <th>date</th>\n",
              "      <th>is_recommended</th>\n",
              "      <th>hours</th>\n",
              "      <th>user_id</th>\n",
              "      <th>review_id</th>\n",
              "    </tr>\n",
              "  </thead>\n",
              "  <tbody>\n",
              "    <tr>\n",
              "      <th>0</th>\n",
              "      <td>975370</td>\n",
              "      <td>0</td>\n",
              "      <td>0</td>\n",
              "      <td>2022-12-12</td>\n",
              "      <td>True</td>\n",
              "      <td>36.3</td>\n",
              "      <td>51580</td>\n",
              "      <td>0</td>\n",
              "    </tr>\n",
              "    <tr>\n",
              "      <th>1</th>\n",
              "      <td>304390</td>\n",
              "      <td>4</td>\n",
              "      <td>0</td>\n",
              "      <td>2017-02-17</td>\n",
              "      <td>False</td>\n",
              "      <td>11.5</td>\n",
              "      <td>2586</td>\n",
              "      <td>1</td>\n",
              "    </tr>\n",
              "    <tr>\n",
              "      <th>2</th>\n",
              "      <td>1085660</td>\n",
              "      <td>2</td>\n",
              "      <td>0</td>\n",
              "      <td>2019-11-17</td>\n",
              "      <td>True</td>\n",
              "      <td>336.5</td>\n",
              "      <td>253880</td>\n",
              "      <td>2</td>\n",
              "    </tr>\n",
              "    <tr>\n",
              "      <th>3</th>\n",
              "      <td>703080</td>\n",
              "      <td>0</td>\n",
              "      <td>0</td>\n",
              "      <td>2022-09-23</td>\n",
              "      <td>True</td>\n",
              "      <td>27.4</td>\n",
              "      <td>259432</td>\n",
              "      <td>3</td>\n",
              "    </tr>\n",
              "    <tr>\n",
              "      <th>4</th>\n",
              "      <td>526870</td>\n",
              "      <td>0</td>\n",
              "      <td>0</td>\n",
              "      <td>2021-01-10</td>\n",
              "      <td>True</td>\n",
              "      <td>7.9</td>\n",
              "      <td>23869</td>\n",
              "      <td>4</td>\n",
              "    </tr>\n",
              "  </tbody>\n",
              "</table>\n",
              "</div>"
            ],
            "text/plain": [
              "    app_id  helpful  funny        date  is_recommended  hours  user_id  \\\n",
              "0   975370        0      0  2022-12-12            True   36.3    51580   \n",
              "1   304390        4      0  2017-02-17           False   11.5     2586   \n",
              "2  1085660        2      0  2019-11-17            True  336.5   253880   \n",
              "3   703080        0      0  2022-09-23            True   27.4   259432   \n",
              "4   526870        0      0  2021-01-10            True    7.9    23869   \n",
              "\n",
              "   review_id  \n",
              "0          0  \n",
              "1          1  \n",
              "2          2  \n",
              "3          3  \n",
              "4          4  "
            ]
          },
          "execution_count": 5,
          "metadata": {},
          "output_type": "execute_result"
        }
      ],
      "source": [
        "df_recommendations.head()"
      ]
    },
    {
      "cell_type": "markdown",
      "metadata": {},
      "source": [
        "# Data Preparation\n",
        "\n",
        "**Check for missing values**"
      ]
    },
    {
      "cell_type": "code",
      "execution_count": 7,
      "metadata": {},
      "outputs": [
        {
          "data": {
            "text/html": [
              "<div>\n",
              "<style scoped>\n",
              "    .dataframe tbody tr th:only-of-type {\n",
              "        vertical-align: middle;\n",
              "    }\n",
              "\n",
              "    .dataframe tbody tr th {\n",
              "        vertical-align: top;\n",
              "    }\n",
              "\n",
              "    .dataframe thead th {\n",
              "        text-align: right;\n",
              "    }\n",
              "</style>\n",
              "<table border=\"1\" class=\"dataframe\">\n",
              "  <thead>\n",
              "    <tr style=\"text-align: right;\">\n",
              "      <th></th>\n",
              "      <th>Dataframe</th>\n",
              "      <th>% of Missing Values</th>\n",
              "    </tr>\n",
              "  </thead>\n",
              "  <tbody>\n",
              "    <tr>\n",
              "      <th>0</th>\n",
              "      <td>Recommendations</td>\n",
              "      <td>0.0</td>\n",
              "    </tr>\n",
              "    <tr>\n",
              "      <th>1</th>\n",
              "      <td>Users</td>\n",
              "      <td>0.0</td>\n",
              "    </tr>\n",
              "    <tr>\n",
              "      <th>2</th>\n",
              "      <td>Games</td>\n",
              "      <td>0.0</td>\n",
              "    </tr>\n",
              "  </tbody>\n",
              "</table>\n",
              "</div>"
            ],
            "text/plain": [
              "         Dataframe  % of Missing Values\n",
              "0  Recommendations                  0.0\n",
              "1            Users                  0.0\n",
              "2            Games                  0.0"
            ]
          },
          "execution_count": 7,
          "metadata": {},
          "output_type": "execute_result"
        }
      ],
      "source": [
        "def percentage_na(df: pd.DataFrame) -> float:\n",
        "  \"\"\"Calculates the percentage of missing values in the dataframe we created\"\"\"\n",
        "  return np.count_nonzero(df.isnull().values) / (df.shape[0] * df.shape[1]) * 100\n",
        "\n",
        "pd.DataFrame([\n",
        "    [\"Recommendations\", percentage_na(df_recommendations)],\n",
        "    [\"Users\", percentage_na(df_users)],\n",
        "    [\"Games\", percentage_na(df_games)],\n",
        "], columns=[\"Dataframe\", \"% of Missing Values\"])\n"
      ]
    },
    {
      "cell_type": "markdown",
      "metadata": {},
      "source": [
        "# Distribution of game ratings\n",
        "Using the games table, we can create a distribution to showcase the most common game ratings.\n",
        "\n",
        "From this chart, games are usually rated more postively than negatively and the proportion of overwhelmingly positive games to overwhelmingly negative games is considerable"
      ]
    },
    {
      "cell_type": "code",
      "execution_count": 8,
      "metadata": {},
      "outputs": [
        {
          "data": {
            "image/png": "[encoded data removed]",
            "text/plain": [
              "<Figure size 1000x600 with 1 Axes>"
            ]
          },
          "metadata": {},
          "output_type": "display_data"
        }
      ],
      "source": [
        "plt.figure(figsize=(10, 6))\n",
        "df_games['rating'].value_counts().plot(kind='bar')\n",
        "plt.title('Distribution of Game Ratings')\n",
        "plt.xlabel('Rating')\n",
        "plt.ylabel('Count')\n",
        "plt.show()"
      ]
    },
    {
      "cell_type": "markdown",
      "metadata": {},
      "source": [
        "# Most popular gaming categories"
      ]
    },
    {
      "cell_type": "code",
      "execution_count": null,
      "metadata": {},
      "outputs": [
        {
          "data": {
            "text/plain": [
              "<Figure size 1200x800 with 0 Axes>"
            ]
          },
          "metadata": {},
          "output_type": "display_data"
        },
        {
          "data": {
            "image/png": "[encoded data removed]",
            "text/plain": [
              "<Figure size 640x480 with 1 Axes>"
            ]
          },
          "metadata": {},
          "output_type": "display_data"
        }
      ],
      "source": [
        "from collections import Counter\n",
        "\n",
        "# Extract genres from the tags column\n",
        "genres = df_games_meta['tags'].explode()\n",
        "\n",
        "# Count the occurrences of each genre\n",
        "genre_counts = Counter(genres)\n",
        "\n",
        "# Convert the counts to a DataFrame\n",
        "df_genre_counts = pd.DataFrame(genre_counts.items(), columns=['Genre', 'Count'])\n",
        "\n",
        "# Sort the DataFrame by count in descending order\n",
        "df_genre_counts = df_genre_counts.sort_values(by='Count', ascending=False)\n",
        "\n",
        "# Plot the most common genres as a pie chart\n",
        "plt.figure(figsize=(12, 8))\n",
        "colors = plt.cm.tab20(np.linspace(0, 1, 20))\n",
        "df_genre_counts.head(10).set_index('Genre').plot(kind='pie', y='Count', legend=False, autopct='%1.1f%%', colors=colors)\n",
        "plt.title('Most Common Genres')\n",
        "plt.ylabel('')\n",
        "plt.show()\n"
      ]
    }
  ],
  "metadata": {
    "colab": {
      "authorship_tag": "ABX9TyN6zxZxUBDEC+gpQyQ0GUXG",
      "include_colab_link": true,
      "provenance": [],
      "toc_visible": true
    },
    "kernelspec": {
      "display_name": ".venv",
      "language": "python",
      "name": "python3"
    },
    "language_info": {
      "codemirror_mode": {
        "name": "ipython",
        "version": 3
      },
      "file_extension": ".py",
      "mimetype": "text/x-python",
      "name": "python",
      "nbconvert_exporter": "python",
      "pygments_lexer": "ipython3",
      "version": "3.13.1"
    }
  },
  "nbformat": 4,
  "nbformat_minor": 0
}
